{
 "cells": [
  {
   "cell_type": "markdown",
   "metadata": {},
   "source": [
    "## list"
   ]
  },
  {
   "cell_type": "code",
   "execution_count": 9,
   "metadata": {},
   "outputs": [
    {
     "data": {
      "text/plain": [
       "[]"
      ]
     },
     "execution_count": 9,
     "metadata": {},
     "output_type": "execute_result"
    }
   ],
   "source": [
    "lis=[1,2,3,4,5]\n",
    "lis.append(6)\n",
    "lis\n",
    "lis.remove(2)\n",
    "lis\n",
    "lis2=lis.copy()\n",
    "lis2\n",
    "lis.insert(2,7)\n",
    "lis2\n",
    "lis.remove(7)\n",
    "lis2\n",
    "popped_element=lis.pop()\n",
    "lis\n",
    "list_length=len(lis2)\n",
    "lis2\n",
    "lis.sort()\n",
    "lis2\n",
    "a=[8,9,10]\n",
    "lis2.extend(a)\n",
    "lis2\n",
    "x=lis2.index(6)\n",
    "lis2\n",
    "lis2.reverse()\n",
    "lis2\n",
    "lis2.clear()\n",
    "lis2\n"
   ]
  },
  {
   "cell_type": "markdown",
   "metadata": {},
   "source": [
    "## tuples"
   ]
  },
  {
   "cell_type": "code",
   "execution_count": 44,
   "metadata": {},
   "outputs": [
    {
     "data": {
      "text/plain": [
       "1"
      ]
     },
     "execution_count": 44,
     "metadata": {},
     "output_type": "execute_result"
    }
   ],
   "source": [
    "tupl=(\"abc\",\"def\",\"ghi\")\n",
    "tupl\n",
    "a=tupl[1]\n",
    "tupl\n",
    "length=len(tupl)\n",
    "tupl\n",
    "tupl=tupl.count(\"def\")\n",
    "tupl\n",
    "tup2=(\"jkl\",\"mno\")\n",
    "tupl\n",
    "\n",
    "\n",
    "\n"
   ]
  },
  {
   "cell_type": "markdown",
   "metadata": {},
   "source": [
    "### Dictionaries"
   ]
  },
  {
   "cell_type": "code",
   "execution_count": 67,
   "metadata": {},
   "outputs": [
    {
     "name": "stdout",
     "output_type": "stream",
     "text": [
      "name exits\n",
      "name anu\n",
      "city banglore\n",
      "name anu\n",
      "city banglore\n"
     ]
    },
    {
     "data": {
      "text/plain": [
       "{}"
      ]
     },
     "execution_count": 67,
     "metadata": {},
     "output_type": "execute_result"
    }
   ],
   "source": [
    "dict={\"name\":\"anu\",\"age\":20}\n",
    "dict\n",
    "name=dict[\"name\"]\n",
    "dict\n",
    "dict[\"city\"]=\"banglore\"\n",
    "dict\n",
    "del dict[\"age\"]\n",
    "dict\n",
    "if \"name\" in dict:\n",
    "    print(\"name exits\")\n",
    "for key in dict:\n",
    "    print(key,dict[key])\n",
    "for values in dict:\n",
    "    print(values,dict[values])\n",
    "length=len(dict)\n",
    "dict\n",
    "dict2={\"salary\":1000}\n",
    "dict.update(dict2)\n",
    "dict\n",
    "dict.clear()\n",
    "dict"
   ]
  },
  {
   "cell_type": "markdown",
   "metadata": {},
   "source": [
    "### sets"
   ]
  },
  {
   "cell_type": "code",
   "execution_count": 13,
   "metadata": {},
   "outputs": [
    {
     "data": {
      "text/plain": [
       "{1, 2, 3, 4, 6, 7, 8, 9}"
      ]
     },
     "execution_count": 13,
     "metadata": {},
     "output_type": "execute_result"
    }
   ],
   "source": [
    "set={1,2,3,4,5}\n",
    "set.add(6)\n",
    "set\n",
    "set.update([7,8,9])\n",
    "set\n",
    "set.remove(5)\n",
    "set\n",
    "set1={\"abc\"}\n",
    "union_set=set1|set\n",
    "set\n",
    "len(set)\n",
    "set\n"
   ]
  },
  {
   "cell_type": "markdown",
   "metadata": {},
   "source": [
    "\n"
   ]
  }
 ],
 "metadata": {
  "kernelspec": {
   "display_name": "Python 3",
   "language": "python",
   "name": "python3"
  },
  "language_info": {
   "codemirror_mode": {
    "name": "ipython",
    "version": 3
   },
   "file_extension": ".py",
   "mimetype": "text/x-python",
   "name": "python",
   "nbconvert_exporter": "python",
   "pygments_lexer": "ipython3",
   "version": "3.11.9"
  }
 },
 "nbformat": 4,
 "nbformat_minor": 2
}
